{
 "cells": [
  {
   "cell_type": "markdown",
   "id": "112ef87b",
   "metadata": {},
   "source": [
    "# Summer Datathon baseline 1:"
   ]
  },
  {
   "cell_type": "code",
   "execution_count": 31,
   "id": "19a0708e",
   "metadata": {},
   "outputs": [],
   "source": [
    "# import libraries\n",
    "import numpy as np\n",
    "import pandas as pd\n",
    "import re\n",
    "import matplotlib.pyplot as plt\n",
    "import seaborn as sns\n",
    "\n",
    "# sklearn dependencies\n",
    "from sklearn.compose import ColumnTransformer, make_column_transformer\n",
    "from sklearn.preprocessing import OneHotEncoder, OrdinalEncoder\n",
    "from sklearn.preprocessing import StandardScaler\n",
    "from sklearn.impute import SimpleImputer\n",
    "from sklearn.pipeline import Pipeline\n",
    "from sklearn.linear_model import LinearRegression, Lasso, Ridge\n",
    "from sklearn.model_selection import train_test_split\n",
    "from sklearn.metrics import mean_squared_error, r2_score, mean_squared_log_error"
   ]
  },
  {
   "cell_type": "markdown",
   "id": "ff048b04",
   "metadata": {},
   "source": [
    "## Load the dataset"
   ]
  },
  {
   "cell_type": "code",
   "execution_count": 32,
   "id": "63fa3f40",
   "metadata": {},
   "outputs": [],
   "source": [
    "# read the dataset \n",
    "df=pd.read_csv('internal_testing_sample.csv')"
   ]
  },
  {
   "cell_type": "code",
   "execution_count": 33,
   "id": "1ba36654",
   "metadata": {},
   "outputs": [
    {
     "data": {
      "text/html": [
       "<div>\n",
       "<style scoped>\n",
       "    .dataframe tbody tr th:only-of-type {\n",
       "        vertical-align: middle;\n",
       "    }\n",
       "\n",
       "    .dataframe tbody tr th {\n",
       "        vertical-align: top;\n",
       "    }\n",
       "\n",
       "    .dataframe thead th {\n",
       "        text-align: right;\n",
       "    }\n",
       "</style>\n",
       "<table border=\"1\" class=\"dataframe\">\n",
       "  <thead>\n",
       "    <tr style=\"text-align: right;\">\n",
       "      <th></th>\n",
       "      <th>id</th>\n",
       "      <th>time</th>\n",
       "      <th>duration</th>\n",
       "      <th>feature_0</th>\n",
       "      <th>checkpoint</th>\n",
       "      <th>feature_1</th>\n",
       "      <th>feature_2</th>\n",
       "      <th>feature_3</th>\n",
       "      <th>feature_4</th>\n",
       "      <th>feature_5</th>\n",
       "      <th>...</th>\n",
       "      <th>feature_28</th>\n",
       "      <th>feature_29</th>\n",
       "      <th>feature_30</th>\n",
       "      <th>feature_31</th>\n",
       "      <th>feature_32</th>\n",
       "      <th>feature_33</th>\n",
       "      <th>feature_34</th>\n",
       "      <th>feature_35</th>\n",
       "      <th>feature_36</th>\n",
       "      <th>target</th>\n",
       "    </tr>\n",
       "  </thead>\n",
       "  <tbody>\n",
       "    <tr>\n",
       "      <th>0</th>\n",
       "      <td>cc4a30b284b3a41bb12860b727fcb016</td>\n",
       "      <td>2 years</td>\n",
       "      <td>60 months</td>\n",
       "      <td>0.0</td>\n",
       "      <td>4th week</td>\n",
       "      <td>TN</td>\n",
       "      <td>39500.0</td>\n",
       "      <td>INDIVIDUAL</td>\n",
       "      <td>BAT6004464</td>\n",
       "      <td>0.0</td>\n",
       "      <td>...</td>\n",
       "      <td>D3</td>\n",
       "      <td>Debt consolidation</td>\n",
       "      <td>0.0</td>\n",
       "      <td>41840.0</td>\n",
       "      <td>176.70</td>\n",
       "      <td>0.0</td>\n",
       "      <td>26100.0</td>\n",
       "      <td>Source Verified</td>\n",
       "      <td>370xx</td>\n",
       "      <td>25.0</td>\n",
       "    </tr>\n",
       "    <tr>\n",
       "      <th>1</th>\n",
       "      <td>0c507dc608992b4786d582af707f320a</td>\n",
       "      <td>1 year</td>\n",
       "      <td>36 months</td>\n",
       "      <td>0.0</td>\n",
       "      <td>31th week</td>\n",
       "      <td>NJ</td>\n",
       "      <td>65000.0</td>\n",
       "      <td>INDIVIDUAL</td>\n",
       "      <td>BAT422167</td>\n",
       "      <td>0.0</td>\n",
       "      <td>...</td>\n",
       "      <td>B4</td>\n",
       "      <td>Debt consolidation</td>\n",
       "      <td>0.0</td>\n",
       "      <td>52364.0</td>\n",
       "      <td>291.41</td>\n",
       "      <td>0.0</td>\n",
       "      <td>3300.0</td>\n",
       "      <td>Not Verified</td>\n",
       "      <td>070xx</td>\n",
       "      <td>24.0</td>\n",
       "    </tr>\n",
       "    <tr>\n",
       "      <th>2</th>\n",
       "      <td>53e3542cea6599e002b6971a1515423d</td>\n",
       "      <td>5 years</td>\n",
       "      <td>36 months</td>\n",
       "      <td>0.0</td>\n",
       "      <td>26th week</td>\n",
       "      <td>CA</td>\n",
       "      <td>40000.0</td>\n",
       "      <td>INDIVIDUAL</td>\n",
       "      <td></td>\n",
       "      <td>0.0</td>\n",
       "      <td>...</td>\n",
       "      <td>B4</td>\n",
       "      <td>Debt consolidation</td>\n",
       "      <td>0.0</td>\n",
       "      <td>23942.0</td>\n",
       "      <td>357.43</td>\n",
       "      <td>0.0</td>\n",
       "      <td>23500.0</td>\n",
       "      <td>Source Verified</td>\n",
       "      <td>921xx</td>\n",
       "      <td>26.0</td>\n",
       "    </tr>\n",
       "    <tr>\n",
       "      <th>3</th>\n",
       "      <td>4a70a2a428fa315c22eecfc4d7e1eec6</td>\n",
       "      <td>10+ years</td>\n",
       "      <td>60 months</td>\n",
       "      <td>0.0</td>\n",
       "      <td>87th week</td>\n",
       "      <td>IL</td>\n",
       "      <td>108000.0</td>\n",
       "      <td>INDIVIDUAL</td>\n",
       "      <td></td>\n",
       "      <td>0.0</td>\n",
       "      <td>...</td>\n",
       "      <td>D3</td>\n",
       "      <td>Debt consolidation</td>\n",
       "      <td>0.0</td>\n",
       "      <td>163168.0</td>\n",
       "      <td>5842.12</td>\n",
       "      <td>0.0</td>\n",
       "      <td>54700.0</td>\n",
       "      <td>Not Verified</td>\n",
       "      <td>601xx</td>\n",
       "      <td>30.0</td>\n",
       "    </tr>\n",
       "    <tr>\n",
       "      <th>4</th>\n",
       "      <td>5bae16ab57a152d59d5e93b78f67179f</td>\n",
       "      <td>4 years</td>\n",
       "      <td>60 months</td>\n",
       "      <td>0.0</td>\n",
       "      <td>26th week</td>\n",
       "      <td>CA</td>\n",
       "      <td>280000.0</td>\n",
       "      <td>INDIVIDUAL</td>\n",
       "      <td>NaN</td>\n",
       "      <td>0.0</td>\n",
       "      <td>...</td>\n",
       "      <td>D5</td>\n",
       "      <td>Credit card refinancing</td>\n",
       "      <td>0.0</td>\n",
       "      <td>1143160.0</td>\n",
       "      <td>3007.60</td>\n",
       "      <td>0.0</td>\n",
       "      <td>203200.0</td>\n",
       "      <td>Verified</td>\n",
       "      <td>913xx</td>\n",
       "      <td>36.0</td>\n",
       "    </tr>\n",
       "    <tr>\n",
       "      <th>5</th>\n",
       "      <td>fdf8bde95c17de8c33b91e88f492dd38</td>\n",
       "      <td>9 years</td>\n",
       "      <td>60 months</td>\n",
       "      <td>0.0</td>\n",
       "      <td>143th week</td>\n",
       "      <td>NJ</td>\n",
       "      <td>47000.0</td>\n",
       "      <td>INDIVIDUAL</td>\n",
       "      <td></td>\n",
       "      <td>0.0</td>\n",
       "      <td>...</td>\n",
       "      <td>C5</td>\n",
       "      <td>Debt Relief</td>\n",
       "      <td>0.0</td>\n",
       "      <td>15275.0</td>\n",
       "      <td>6850.19</td>\n",
       "      <td>0.0</td>\n",
       "      <td>9600.0</td>\n",
       "      <td>Verified</td>\n",
       "      <td>080xx</td>\n",
       "      <td>21.0</td>\n",
       "    </tr>\n",
       "    <tr>\n",
       "      <th>6</th>\n",
       "      <td>90b42960d84ee2d1924e4fb28858417c</td>\n",
       "      <td>8 years</td>\n",
       "      <td>60 months</td>\n",
       "      <td>0.0</td>\n",
       "      <td>17th week</td>\n",
       "      <td>NY</td>\n",
       "      <td>73000.0</td>\n",
       "      <td>INDIVIDUAL</td>\n",
       "      <td>BAT4271519</td>\n",
       "      <td>0.0</td>\n",
       "      <td>...</td>\n",
       "      <td>C3</td>\n",
       "      <td>Debt consolidation</td>\n",
       "      <td>0.0</td>\n",
       "      <td>356280.0</td>\n",
       "      <td>654.64</td>\n",
       "      <td>0.0</td>\n",
       "      <td>11400.0</td>\n",
       "      <td>Not Verified</td>\n",
       "      <td>112xx</td>\n",
       "      <td>18.0</td>\n",
       "    </tr>\n",
       "    <tr>\n",
       "      <th>7</th>\n",
       "      <td>d3e403e4a7d1bb0029f77f3c68ba5220</td>\n",
       "      <td>10+ years</td>\n",
       "      <td>36 months</td>\n",
       "      <td>0.0</td>\n",
       "      <td>48th week</td>\n",
       "      <td>FL</td>\n",
       "      <td>83000.0</td>\n",
       "      <td>INDIVIDUAL</td>\n",
       "      <td>BAT4694572</td>\n",
       "      <td>0.0</td>\n",
       "      <td>...</td>\n",
       "      <td>A5</td>\n",
       "      <td>Credit card refinancing</td>\n",
       "      <td>0.0</td>\n",
       "      <td>346798.0</td>\n",
       "      <td>521.55</td>\n",
       "      <td>0.0</td>\n",
       "      <td>36300.0</td>\n",
       "      <td>Not Verified</td>\n",
       "      <td>330xx</td>\n",
       "      <td>42.0</td>\n",
       "    </tr>\n",
       "    <tr>\n",
       "      <th>8</th>\n",
       "      <td>d74700cd0aaa619e87c4b533048f111b</td>\n",
       "      <td>6 years</td>\n",
       "      <td>36 months</td>\n",
       "      <td>0.0</td>\n",
       "      <td>9th week</td>\n",
       "      <td>VA</td>\n",
       "      <td>104000.0</td>\n",
       "      <td>INDIVIDUAL</td>\n",
       "      <td>BAT2252229</td>\n",
       "      <td>0.0</td>\n",
       "      <td>...</td>\n",
       "      <td>B1</td>\n",
       "      <td>Credit card refinancing</td>\n",
       "      <td>0.0</td>\n",
       "      <td>60364.0</td>\n",
       "      <td>125.57</td>\n",
       "      <td>0.0</td>\n",
       "      <td>51600.0</td>\n",
       "      <td>Not Verified</td>\n",
       "      <td>223xx</td>\n",
       "      <td>18.0</td>\n",
       "    </tr>\n",
       "    <tr>\n",
       "      <th>9</th>\n",
       "      <td>759426d65bd5bd84dcfad7d3c242333a</td>\n",
       "      <td>4 years</td>\n",
       "      <td>36 months</td>\n",
       "      <td>0.0</td>\n",
       "      <td>91th week</td>\n",
       "      <td>KS</td>\n",
       "      <td>75800.0</td>\n",
       "      <td>INDIVIDUAL</td>\n",
       "      <td>BAT2522922</td>\n",
       "      <td>0.0</td>\n",
       "      <td>...</td>\n",
       "      <td>C1</td>\n",
       "      <td>Debt consolidation</td>\n",
       "      <td>0.0</td>\n",
       "      <td>138515.0</td>\n",
       "      <td>2607.29</td>\n",
       "      <td>0.0</td>\n",
       "      <td>17400.0</td>\n",
       "      <td>Source Verified</td>\n",
       "      <td>674xx</td>\n",
       "      <td>30.0</td>\n",
       "    </tr>\n",
       "  </tbody>\n",
       "</table>\n",
       "<p>10 rows × 42 columns</p>\n",
       "</div>"
      ],
      "text/plain": [
       "                                 id       time   duration  feature_0  \\\n",
       "0  cc4a30b284b3a41bb12860b727fcb016    2 years  60 months        0.0   \n",
       "1  0c507dc608992b4786d582af707f320a     1 year  36 months        0.0   \n",
       "2  53e3542cea6599e002b6971a1515423d    5 years  36 months        0.0   \n",
       "3  4a70a2a428fa315c22eecfc4d7e1eec6  10+ years  60 months        0.0   \n",
       "4  5bae16ab57a152d59d5e93b78f67179f    4 years  60 months        0.0   \n",
       "5  fdf8bde95c17de8c33b91e88f492dd38    9 years  60 months        0.0   \n",
       "6  90b42960d84ee2d1924e4fb28858417c    8 years  60 months        0.0   \n",
       "7  d3e403e4a7d1bb0029f77f3c68ba5220  10+ years  36 months        0.0   \n",
       "8  d74700cd0aaa619e87c4b533048f111b    6 years  36 months        0.0   \n",
       "9  759426d65bd5bd84dcfad7d3c242333a    4 years  36 months        0.0   \n",
       "\n",
       "   checkpoint feature_1  feature_2   feature_3   feature_4  feature_5  ...  \\\n",
       "0    4th week        TN    39500.0  INDIVIDUAL  BAT6004464        0.0  ...   \n",
       "1   31th week        NJ    65000.0  INDIVIDUAL   BAT422167        0.0  ...   \n",
       "2   26th week        CA    40000.0  INDIVIDUAL                    0.0  ...   \n",
       "3   87th week        IL   108000.0  INDIVIDUAL                    0.0  ...   \n",
       "4   26th week        CA   280000.0  INDIVIDUAL         NaN        0.0  ...   \n",
       "5  143th week        NJ    47000.0  INDIVIDUAL                    0.0  ...   \n",
       "6   17th week        NY    73000.0  INDIVIDUAL  BAT4271519        0.0  ...   \n",
       "7   48th week        FL    83000.0  INDIVIDUAL  BAT4694572        0.0  ...   \n",
       "8    9th week        VA   104000.0  INDIVIDUAL  BAT2252229        0.0  ...   \n",
       "9   91th week        KS    75800.0  INDIVIDUAL  BAT2522922        0.0  ...   \n",
       "\n",
       "   feature_28               feature_29  feature_30 feature_31  feature_32  \\\n",
       "0          D3       Debt consolidation         0.0    41840.0      176.70   \n",
       "1          B4       Debt consolidation         0.0    52364.0      291.41   \n",
       "2          B4       Debt consolidation         0.0    23942.0      357.43   \n",
       "3          D3       Debt consolidation         0.0   163168.0     5842.12   \n",
       "4          D5  Credit card refinancing         0.0  1143160.0     3007.60   \n",
       "5          C5              Debt Relief         0.0    15275.0     6850.19   \n",
       "6          C3       Debt consolidation         0.0   356280.0      654.64   \n",
       "7          A5  Credit card refinancing         0.0   346798.0      521.55   \n",
       "8          B1  Credit card refinancing         0.0    60364.0      125.57   \n",
       "9          C1       Debt consolidation         0.0   138515.0     2607.29   \n",
       "\n",
       "   feature_33 feature_34       feature_35 feature_36  target  \n",
       "0         0.0    26100.0  Source Verified      370xx    25.0  \n",
       "1         0.0     3300.0     Not Verified      070xx    24.0  \n",
       "2         0.0    23500.0  Source Verified      921xx    26.0  \n",
       "3         0.0    54700.0     Not Verified      601xx    30.0  \n",
       "4         0.0   203200.0         Verified      913xx    36.0  \n",
       "5         0.0     9600.0         Verified      080xx    21.0  \n",
       "6         0.0    11400.0     Not Verified      112xx    18.0  \n",
       "7         0.0    36300.0     Not Verified      330xx    42.0  \n",
       "8         0.0    51600.0     Not Verified      223xx    18.0  \n",
       "9         0.0    17400.0  Source Verified      674xx    30.0  \n",
       "\n",
       "[10 rows x 42 columns]"
      ]
     },
     "execution_count": 33,
     "metadata": {},
     "output_type": "execute_result"
    }
   ],
   "source": [
    "df.head(10)"
   ]
  },
  {
   "cell_type": "markdown",
   "id": "3e440f22",
   "metadata": {},
   "source": [
    "Let's get some information about the dataset"
   ]
  },
  {
   "cell_type": "code",
   "execution_count": 34,
   "id": "26171552",
   "metadata": {},
   "outputs": [
    {
     "name": "stdout",
     "output_type": "stream",
     "text": [
      "<class 'pandas.core.frame.DataFrame'>\n",
      "RangeIndex: 5000 entries, 0 to 4999\n",
      "Data columns (total 42 columns):\n",
      " #   Column      Non-Null Count  Dtype  \n",
      "---  ------      --------------  -----  \n",
      " 0   id          5000 non-null   object \n",
      " 1   time        4736 non-null   object \n",
      " 2   duration    5000 non-null   object \n",
      " 3   feature_0   5000 non-null   float64\n",
      " 4   checkpoint  5000 non-null   object \n",
      " 5   feature_1   5000 non-null   object \n",
      " 6   feature_2   5000 non-null   float64\n",
      " 7   feature_3   5000 non-null   object \n",
      " 8   feature_4   4257 non-null   object \n",
      " 9   feature_5   5000 non-null   float64\n",
      " 10  feature_6   5000 non-null   float64\n",
      " 11  feature_7   5000 non-null   float64\n",
      " 12  feature_8   5000 non-null   float64\n",
      " 13  feature_9   4719 non-null   object \n",
      " 14  feature_10  5000 non-null   int64  \n",
      " 15  feature_11  5000 non-null   float64\n",
      " 16  feature_12  5000 non-null   object \n",
      " 17  feature_13  5000 non-null   object \n",
      " 18  feature_14  5000 non-null   object \n",
      " 19  feature_15  5000 non-null   float64\n",
      " 20  feature_16  5000 non-null   float64\n",
      " 21  feature_17  5000 non-null   int64  \n",
      " 22  feature_18  5000 non-null   int64  \n",
      " 23  feature_19  2497 non-null   float64\n",
      " 24  feature_20  1340 non-null   float64\n",
      " 25  feature_21  815 non-null    float64\n",
      " 26  feature_22  5000 non-null   float64\n",
      " 27  feature_23  5000 non-null   object \n",
      " 28  feature_24  5000 non-null   object \n",
      " 29  feature_25  5000 non-null   float64\n",
      " 30  feature_26  5000 non-null   float64\n",
      " 31  feature_27  4999 non-null   float64\n",
      " 32  feature_28  5000 non-null   object \n",
      " 33  feature_29  4999 non-null   object \n",
      " 34  feature_30  5000 non-null   float64\n",
      " 35  feature_31  5000 non-null   float64\n",
      " 36  feature_32  5000 non-null   float64\n",
      " 37  feature_33  5000 non-null   float64\n",
      " 38  feature_34  5000 non-null   float64\n",
      " 39  feature_35  5000 non-null   object \n",
      " 40  feature_36  5000 non-null   object \n",
      " 41  target      5000 non-null   float64\n",
      "dtypes: float64(22), int64(3), object(17)\n",
      "memory usage: 1.6+ MB\n"
     ]
    }
   ],
   "source": [
    "df.info()"
   ]
  },
  {
   "cell_type": "code",
   "execution_count": 35,
   "id": "878bff59",
   "metadata": {},
   "outputs": [
    {
     "data": {
      "text/html": [
       "<div>\n",
       "<style scoped>\n",
       "    .dataframe tbody tr th:only-of-type {\n",
       "        vertical-align: middle;\n",
       "    }\n",
       "\n",
       "    .dataframe tbody tr th {\n",
       "        vertical-align: top;\n",
       "    }\n",
       "\n",
       "    .dataframe thead th {\n",
       "        text-align: right;\n",
       "    }\n",
       "</style>\n",
       "<table border=\"1\" class=\"dataframe\">\n",
       "  <thead>\n",
       "    <tr style=\"text-align: right;\">\n",
       "      <th></th>\n",
       "      <th>feature_0</th>\n",
       "      <th>feature_2</th>\n",
       "      <th>feature_5</th>\n",
       "      <th>feature_6</th>\n",
       "      <th>feature_7</th>\n",
       "      <th>feature_8</th>\n",
       "      <th>feature_10</th>\n",
       "      <th>feature_11</th>\n",
       "      <th>feature_15</th>\n",
       "      <th>feature_16</th>\n",
       "      <th>...</th>\n",
       "      <th>feature_22</th>\n",
       "      <th>feature_25</th>\n",
       "      <th>feature_26</th>\n",
       "      <th>feature_27</th>\n",
       "      <th>feature_30</th>\n",
       "      <th>feature_31</th>\n",
       "      <th>feature_32</th>\n",
       "      <th>feature_33</th>\n",
       "      <th>feature_34</th>\n",
       "      <th>target</th>\n",
       "    </tr>\n",
       "  </thead>\n",
       "  <tbody>\n",
       "    <tr>\n",
       "      <th>count</th>\n",
       "      <td>5000.000000</td>\n",
       "      <td>5000.000000</td>\n",
       "      <td>5000.000000</td>\n",
       "      <td>5000.000000</td>\n",
       "      <td>5000.000000</td>\n",
       "      <td>5000.000000</td>\n",
       "      <td>5000.000000</td>\n",
       "      <td>5000.000000</td>\n",
       "      <td>5000.000000</td>\n",
       "      <td>5000.000000</td>\n",
       "      <td>...</td>\n",
       "      <td>5000.00000</td>\n",
       "      <td>5000.000000</td>\n",
       "      <td>5000.000000</td>\n",
       "      <td>4999.000000</td>\n",
       "      <td>5000.000000</td>\n",
       "      <td>5.000000e+03</td>\n",
       "      <td>5000.000000</td>\n",
       "      <td>5000.000000</td>\n",
       "      <td>5000.0000</td>\n",
       "      <td>5000.000000</td>\n",
       "    </tr>\n",
       "    <tr>\n",
       "      <th>mean</th>\n",
       "      <td>0.006600</td>\n",
       "      <td>75776.499826</td>\n",
       "      <td>4.424631</td>\n",
       "      <td>0.015800</td>\n",
       "      <td>0.347800</td>\n",
       "      <td>18.614870</td>\n",
       "      <td>15086.675000</td>\n",
       "      <td>15080.808718</td>\n",
       "      <td>0.685400</td>\n",
       "      <td>13.255902</td>\n",
       "      <td>...</td>\n",
       "      <td>0.20720</td>\n",
       "      <td>39.502424</td>\n",
       "      <td>17445.518200</td>\n",
       "      <td>55.549290</td>\n",
       "      <td>251.922200</td>\n",
       "      <td>1.400143e+05</td>\n",
       "      <td>1693.410364</td>\n",
       "      <td>0.319930</td>\n",
       "      <td>32178.9484</td>\n",
       "      <td>25.592800</td>\n",
       "    </tr>\n",
       "    <tr>\n",
       "      <th>std</th>\n",
       "      <td>0.085778</td>\n",
       "      <td>49631.067252</td>\n",
       "      <td>51.810279</td>\n",
       "      <td>0.139837</td>\n",
       "      <td>0.909176</td>\n",
       "      <td>8.364585</td>\n",
       "      <td>8376.989054</td>\n",
       "      <td>8373.932511</td>\n",
       "      <td>0.991274</td>\n",
       "      <td>4.366022</td>\n",
       "      <td>...</td>\n",
       "      <td>0.58612</td>\n",
       "      <td>347.598125</td>\n",
       "      <td>21813.808946</td>\n",
       "      <td>23.539859</td>\n",
       "      <td>4612.687939</td>\n",
       "      <td>1.583718e+05</td>\n",
       "      <td>1962.287621</td>\n",
       "      <td>3.455583</td>\n",
       "      <td>31092.0058</td>\n",
       "      <td>11.896356</td>\n",
       "    </tr>\n",
       "    <tr>\n",
       "      <th>min</th>\n",
       "      <td>0.000000</td>\n",
       "      <td>7067.000000</td>\n",
       "      <td>0.000000</td>\n",
       "      <td>0.000000</td>\n",
       "      <td>0.000000</td>\n",
       "      <td>0.000000</td>\n",
       "      <td>1000.000000</td>\n",
       "      <td>1000.000000</td>\n",
       "      <td>0.000000</td>\n",
       "      <td>5.320000</td>\n",
       "      <td>...</td>\n",
       "      <td>0.00000</td>\n",
       "      <td>0.000000</td>\n",
       "      <td>0.000000</td>\n",
       "      <td>0.000000</td>\n",
       "      <td>0.000000</td>\n",
       "      <td>0.000000e+00</td>\n",
       "      <td>0.000000</td>\n",
       "      <td>0.000000</td>\n",
       "      <td>200.0000</td>\n",
       "      <td>3.000000</td>\n",
       "    </tr>\n",
       "    <tr>\n",
       "      <th>25%</th>\n",
       "      <td>0.000000</td>\n",
       "      <td>47000.000000</td>\n",
       "      <td>0.000000</td>\n",
       "      <td>0.000000</td>\n",
       "      <td>0.000000</td>\n",
       "      <td>12.397500</td>\n",
       "      <td>8500.000000</td>\n",
       "      <td>8500.000000</td>\n",
       "      <td>0.000000</td>\n",
       "      <td>9.990000</td>\n",
       "      <td>...</td>\n",
       "      <td>0.00000</td>\n",
       "      <td>0.000000</td>\n",
       "      <td>6813.250000</td>\n",
       "      <td>38.800000</td>\n",
       "      <td>0.000000</td>\n",
       "      <td>3.006750e+04</td>\n",
       "      <td>415.745000</td>\n",
       "      <td>0.000000</td>\n",
       "      <td>14400.0000</td>\n",
       "      <td>17.000000</td>\n",
       "    </tr>\n",
       "    <tr>\n",
       "      <th>50%</th>\n",
       "      <td>0.000000</td>\n",
       "      <td>65000.000000</td>\n",
       "      <td>0.000000</td>\n",
       "      <td>0.000000</td>\n",
       "      <td>0.000000</td>\n",
       "      <td>18.160000</td>\n",
       "      <td>14000.000000</td>\n",
       "      <td>13987.500000</td>\n",
       "      <td>0.000000</td>\n",
       "      <td>12.990000</td>\n",
       "      <td>...</td>\n",
       "      <td>0.00000</td>\n",
       "      <td>0.000000</td>\n",
       "      <td>12421.000000</td>\n",
       "      <td>56.700000</td>\n",
       "      <td>0.000000</td>\n",
       "      <td>7.835200e+04</td>\n",
       "      <td>1070.385000</td>\n",
       "      <td>0.000000</td>\n",
       "      <td>24200.0000</td>\n",
       "      <td>24.000000</td>\n",
       "    </tr>\n",
       "    <tr>\n",
       "      <th>75%</th>\n",
       "      <td>0.000000</td>\n",
       "      <td>90000.000000</td>\n",
       "      <td>0.000000</td>\n",
       "      <td>0.000000</td>\n",
       "      <td>0.000000</td>\n",
       "      <td>24.450000</td>\n",
       "      <td>20000.000000</td>\n",
       "      <td>20000.000000</td>\n",
       "      <td>1.000000</td>\n",
       "      <td>16.200000</td>\n",
       "      <td>...</td>\n",
       "      <td>0.00000</td>\n",
       "      <td>0.000000</td>\n",
       "      <td>21108.750000</td>\n",
       "      <td>73.600000</td>\n",
       "      <td>0.000000</td>\n",
       "      <td>2.051655e+05</td>\n",
       "      <td>2206.487500</td>\n",
       "      <td>0.000000</td>\n",
       "      <td>39900.0000</td>\n",
       "      <td>32.000000</td>\n",
       "    </tr>\n",
       "    <tr>\n",
       "      <th>max</th>\n",
       "      <td>2.000000</td>\n",
       "      <td>900000.000000</td>\n",
       "      <td>1097.622000</td>\n",
       "      <td>4.000000</td>\n",
       "      <td>12.000000</td>\n",
       "      <td>39.970000</td>\n",
       "      <td>35000.000000</td>\n",
       "      <td>35000.000000</td>\n",
       "      <td>6.000000</td>\n",
       "      <td>28.490000</td>\n",
       "      <td>...</td>\n",
       "      <td>13.00000</td>\n",
       "      <td>6097.900000</td>\n",
       "      <td>544178.000000</td>\n",
       "      <td>112.500000</td>\n",
       "      <td>296368.000000</td>\n",
       "      <td>2.552960e+06</td>\n",
       "      <td>19709.430000</td>\n",
       "      <td>93.580000</td>\n",
       "      <td>555500.0000</td>\n",
       "      <td>92.000000</td>\n",
       "    </tr>\n",
       "  </tbody>\n",
       "</table>\n",
       "<p>8 rows × 25 columns</p>\n",
       "</div>"
      ],
      "text/plain": [
       "         feature_0      feature_2    feature_5    feature_6    feature_7  \\\n",
       "count  5000.000000    5000.000000  5000.000000  5000.000000  5000.000000   \n",
       "mean      0.006600   75776.499826     4.424631     0.015800     0.347800   \n",
       "std       0.085778   49631.067252    51.810279     0.139837     0.909176   \n",
       "min       0.000000    7067.000000     0.000000     0.000000     0.000000   \n",
       "25%       0.000000   47000.000000     0.000000     0.000000     0.000000   \n",
       "50%       0.000000   65000.000000     0.000000     0.000000     0.000000   \n",
       "75%       0.000000   90000.000000     0.000000     0.000000     0.000000   \n",
       "max       2.000000  900000.000000  1097.622000     4.000000    12.000000   \n",
       "\n",
       "         feature_8    feature_10    feature_11   feature_15   feature_16  ...  \\\n",
       "count  5000.000000   5000.000000   5000.000000  5000.000000  5000.000000  ...   \n",
       "mean     18.614870  15086.675000  15080.808718     0.685400    13.255902  ...   \n",
       "std       8.364585   8376.989054   8373.932511     0.991274     4.366022  ...   \n",
       "min       0.000000   1000.000000   1000.000000     0.000000     5.320000  ...   \n",
       "25%      12.397500   8500.000000   8500.000000     0.000000     9.990000  ...   \n",
       "50%      18.160000  14000.000000  13987.500000     0.000000    12.990000  ...   \n",
       "75%      24.450000  20000.000000  20000.000000     1.000000    16.200000  ...   \n",
       "max      39.970000  35000.000000  35000.000000     6.000000    28.490000  ...   \n",
       "\n",
       "       feature_22   feature_25     feature_26   feature_27     feature_30  \\\n",
       "count  5000.00000  5000.000000    5000.000000  4999.000000    5000.000000   \n",
       "mean      0.20720    39.502424   17445.518200    55.549290     251.922200   \n",
       "std       0.58612   347.598125   21813.808946    23.539859    4612.687939   \n",
       "min       0.00000     0.000000       0.000000     0.000000       0.000000   \n",
       "25%       0.00000     0.000000    6813.250000    38.800000       0.000000   \n",
       "50%       0.00000     0.000000   12421.000000    56.700000       0.000000   \n",
       "75%       0.00000     0.000000   21108.750000    73.600000       0.000000   \n",
       "max      13.00000  6097.900000  544178.000000   112.500000  296368.000000   \n",
       "\n",
       "         feature_31    feature_32   feature_33   feature_34       target  \n",
       "count  5.000000e+03   5000.000000  5000.000000    5000.0000  5000.000000  \n",
       "mean   1.400143e+05   1693.410364     0.319930   32178.9484    25.592800  \n",
       "std    1.583718e+05   1962.287621     3.455583   31092.0058    11.896356  \n",
       "min    0.000000e+00      0.000000     0.000000     200.0000     3.000000  \n",
       "25%    3.006750e+04    415.745000     0.000000   14400.0000    17.000000  \n",
       "50%    7.835200e+04   1070.385000     0.000000   24200.0000    24.000000  \n",
       "75%    2.051655e+05   2206.487500     0.000000   39900.0000    32.000000  \n",
       "max    2.552960e+06  19709.430000    93.580000  555500.0000    92.000000  \n",
       "\n",
       "[8 rows x 25 columns]"
      ]
     },
     "execution_count": 35,
     "metadata": {},
     "output_type": "execute_result"
    }
   ],
   "source": [
    "df.describe()"
   ]
  },
  {
   "cell_type": "markdown",
   "id": "b89338b3",
   "metadata": {},
   "source": [
    "## A little bit of EDA "
   ]
  },
  {
   "cell_type": "markdown",
   "id": "80c303a2",
   "metadata": {},
   "source": [
    "What is in the `checkpoint` column?"
   ]
  },
  {
   "cell_type": "code",
   "execution_count": 36,
   "id": "0e24e540",
   "metadata": {},
   "outputs": [
    {
     "data": {
      "text/plain": [
       "array(['4th week', '31th week', '26th week', '87th week', '143th week',\n",
       "       '17th week', '48th week', '9th week', '91th week', 'NAth week',\n",
       "       '148th week', '22th week', '43th week', '131th week', '56th week',\n",
       "       '69th week', '104th week', '13th week', '61th week', '44th week',\n",
       "       '83th week', '74th week', '109th week', '65th week', '35th week',\n",
       "       '70th week', '52th week', '122th week', '18th week', '100th week',\n",
       "       '30th week', '135th week', '156th week', '39th week', '82th week',\n",
       "       '57th week', '78th week', '126th week', '96th week', '117th week',\n",
       "       '113th week', '152th week', '144th week', '139th week',\n",
       "       '95th week', '21th week', '161th week', '130th week', '121th week',\n",
       "       '174th week', '108th week', '0th week', '8th week', '165th week',\n",
       "       '170th week'], dtype=object)"
      ]
     },
     "execution_count": 36,
     "metadata": {},
     "output_type": "execute_result"
    }
   ],
   "source": [
    "df.checkpoint.unique()"
   ]
  },
  {
   "cell_type": "markdown",
   "id": "2f553fbb",
   "metadata": {},
   "source": [
    "What about the `duration` column?"
   ]
  },
  {
   "cell_type": "code",
   "execution_count": 37,
   "id": "a0e3b944",
   "metadata": {},
   "outputs": [
    {
     "data": {
      "text/plain": [
       "array(['60 months', '36 months'], dtype=object)"
      ]
     },
     "execution_count": 37,
     "metadata": {},
     "output_type": "execute_result"
    }
   ],
   "source": [
    "df.duration.unique()"
   ]
  },
  {
   "cell_type": "markdown",
   "id": "fafc3be0",
   "metadata": {},
   "source": [
    "`Time` column"
   ]
  },
  {
   "cell_type": "code",
   "execution_count": 38,
   "id": "c0d75fb5",
   "metadata": {},
   "outputs": [
    {
     "data": {
      "text/plain": [
       "array(['2 years', '1 year', '5 years', '10+ years', '4 years', '9 years',\n",
       "       '8 years', '6 years', '3 years', '7 years', nan, '< 1 year'],\n",
       "      dtype=object)"
      ]
     },
     "execution_count": 38,
     "metadata": {},
     "output_type": "execute_result"
    }
   ],
   "source": [
    "df.time.unique()"
   ]
  },
  {
   "cell_type": "markdown",
   "id": "38a4064e",
   "metadata": {},
   "source": [
    "There are some categorical variables in the anonymized features. Let's see what unique values these columns have."
   ]
  },
  {
   "cell_type": "code",
   "execution_count": 39,
   "id": "b1d44f4f",
   "metadata": {},
   "outputs": [],
   "source": [
    "col_names=list(df.columns)"
   ]
  },
  {
   "cell_type": "code",
   "execution_count": 40,
   "id": "8c3ee559",
   "metadata": {},
   "outputs": [],
   "source": [
    "feats=[i for i in col_names if re.search(\"^feature\",i)]"
   ]
  },
  {
   "cell_type": "code",
   "execution_count": 41,
   "id": "562a5e8d",
   "metadata": {},
   "outputs": [
    {
     "name": "stdout",
     "output_type": "stream",
     "text": [
      "Unique values in column `feature_0`: --- [0. 1. 2.]\n",
      "Unique values in column `feature_1`: --- ['TN' 'NJ' 'CA' 'IL' 'NY' 'FL' 'VA' 'KS' 'RI' 'AR' 'WI' 'CO' 'OH' 'CT'\n",
      " 'MD' 'LA' 'AZ' 'KY' 'PA' 'NV' 'MI' 'OR' 'MA' 'GA' 'IN' 'AK' 'WA' 'MN'\n",
      " 'NC' 'AL' 'TX' 'UT' 'SC' 'MO' 'WV' 'DE' 'WY' 'NM' 'OK' 'HI' 'MS' 'MT'\n",
      " 'NH' 'SD' 'DC' 'ND' 'NE' 'VT' 'ME']\n",
      "Unique values in column `feature_3`: --- ['INDIVIDUAL' 'JOINT']\n",
      "Unique values in column `feature_4`: --- ['BAT6004464' 'BAT422167' ' ' nan 'BAT4271519' 'BAT4694572' 'BAT2252229'\n",
      " 'BAT2522922' 'BAT5046402' 'BAT1780517' 'BAT4106493' 'BAT2833642'\n",
      " 'BAT2558388' 'BAT5924421' 'BAT3563724' 'BAT3726927' 'BAT4127326'\n",
      " 'BAT3404765' 'BAT5349407' 'BAT6612051' 'BAT4711174' 'BAT5662637'\n",
      " 'BAT2803411' 'BAT4818662' 'BAT1586599' 'BAT1184694' 'BAT2333412'\n",
      " 'BAT4351734' 'BAT4808022' 'BAT5260863' 'BAT224923' 'BAT2136391'\n",
      " 'BAT4136152' 'BAT3840785' 'BAT2078974' 'BAT3274746' 'BAT3193689'\n",
      " 'BAT1104812' 'BAT338166' 'BAT4408664' 'BAT4722912' 'BAT528686'\n",
      " 'BAT4268557' 'BAT3873588' 'BAT5525466' 'BAT3016651' 'BAT1766061'\n",
      " 'BAT1761981' 'BAT5547201' 'BAT2003848' 'BAT6248271' 'BAT1930365'\n",
      " 'BAT5714674' 'BAT4664105' 'BAT2575549' 'BAT3554832' 'BAT5319342'\n",
      " 'BAT4729018' 'BAT3041298' 'BAT5489674' 'BAT5060554' 'BAT1467036'\n",
      " 'BAT5629144' 'BAT5341619' 'BAT2428731' 'BAT4318899' 'BAT3461431'\n",
      " 'BAT5907542' 'BAT446479' 'BAT5241177' 'BAT3780546' 'BAT4138794'\n",
      " 'BAT3865626' 'BAT4217242' 'BAT3938478' 'BAT5019662' 'BAT4031849'\n",
      " 'BAT3369838' 'BAT3141736' 'BAT5811547' 'BAT6352293' 'BAT5849876'\n",
      " 'BAT1135695']\n",
      "Unique values in column `feature_5`: --- [   0.          493.6392       13.6898       19.374         6.4995\n",
      "  470.1061      466.128        10.9147       28.152       447.93179999\n",
      "   17.8649        4.0119      126.0432      375.36          5.2256\n",
      "   19.396         6.8388       25.9423        2.56320001  345.2652\n",
      " 1073.5146      167.5656       99.864        12.2886       32.5111\n",
      "  357.7644      162.4212       13.9921      784.2294      609.8184\n",
      "    6.7361      303.0084      749.682         5.4861      988.47359999\n",
      "   63.7217      789.81119998   65.4156      257.14799999  102.9546\n",
      "  285.5646       25.3431       18.0577      417.0564      669.1428\n",
      "  191.7468       21.3601     1006.2828       29.044       441.2844\n",
      "   64.944         9.8654        5.4346        5.8627       34.0851\n",
      "    8.6028      357.4728       23.4347        5.9112        7.5378\n",
      "    6.2766       16.8379      623.6416      416.2536      539.4366\n",
      "   12.7333      640.68299999   44.3748       34.7249       12.955\n",
      "  441.909        24.0457      117.225       576.8352       10.6356\n",
      "    3.92        203.211        29.5901      338.0562     1097.622\n",
      "  417.4812      426.9474       14.1          46.3221       31.8877\n",
      "  813.0906       20.0716        9.626       378.9684      726.9246\n",
      "   31.3839      855.99899999]\n",
      "Unique values in column `feature_6`: --- [0. 1. 2. 4.]\n",
      "Unique values in column `feature_7`: --- [ 0.  2.  4.  3.  1.  8.  7.  5.  6. 11.  9. 10. 12.]\n",
      "Unique values in column `feature_12`: --- ['D' 'B' 'C' 'A' 'F' 'E' 'G']\n",
      "Unique values in column `feature_13`: --- ['RENT' 'OWN' 'MORTGAGE' 'ANY']\n",
      "Unique values in column `feature_14`: --- ['w' 'f']\n",
      "Unique values in column `feature_15`: --- [0. 2. 1. 5. 4. 3. 6.]\n",
      "Unique values in column `feature_19`: --- [ nan  14.  17.  53.  10.   2.  15.  49.  34.  38.  11.  26.  72.  20.\n",
      "  30.  68.  24.  70.  13.   6.   9.  16.  43.  63.   7.  46.  44.   4.\n",
      "  12.  60.  40.   8.  21.  57.  64.  28.  31.  59.  82.  67.  36.  22.\n",
      "  23.  61.  71.  27.  77.  76.  29.  50.  58.  56.  18.  79.  41.   3.\n",
      "  42.  37.  69.  45.  62.  74.  19.  25.  78.  52.  81.  54.  33.  47.\n",
      "  91.  32.  55.  75.  48.  65.   5.  66.  35.  73.   1.  39.  51.  80.\n",
      "   0.  83.  87.  94. 133.  85. 127.]\n",
      "Unique values in column `feature_22`: --- [ 1.  0.  7.  2.  5.  4.  3. 13.  9.  6.]\n",
      "Unique values in column `feature_23`: --- ['debt_consolidation' 'credit_card' 'house' 'other' 'medical'\n",
      " 'home_improvement' 'major_purchase' 'small_business' 'vacation' 'moving'\n",
      " 'car' 'wedding' 'renewable_energy']\n",
      "Unique values in column `feature_24`: --- ['n']\n",
      "Unique values in column `feature_25`: --- [   0.   2742.44 1368.98 1937.4   649.95 2765.33 2589.6  1091.47 2815.2\n",
      " 2488.51 1786.49  401.19  700.24 2208.    522.56 1939.6   683.88 2605.93\n",
      "   14.24 1918.14 5963.97  930.92  554.8  1228.86 3251.11 1987.58  902.34\n",
      " 1399.21 4356.83 3387.88  673.61 1683.38 4164.9   548.61 5491.52 1272.17\n",
      " 4387.84  363.42 1428.6   571.97 1586.47 2550.48 1816.5  2316.98 3717.46\n",
      " 1065.26 2136.01 5590.46 2926.29 2451.58  360.8   986.54  543.46  586.27\n",
      " 3408.51  860.28 1985.96 2364.53   10.3   591.12  753.78  627.66 1683.79\n",
      " 3668.48 2312.52 2996.87 1273.33 3559.35 4437.48 3472.49 1295.5  2455.05\n",
      " 2404.57  651.25 3204.64 1063.56  416.03 1128.95 2959.01 1878.09 6097.9\n",
      " 2319.34 2371.93   13.23 1460.69 4645.31 3188.77 4517.17 2007.16  962.6\n",
      " 2105.38 4038.47 3152.29 4755.55]\n",
      "Unique values in column `feature_28`: --- ['D3' 'B4' 'D5' 'C5' 'C3' 'A5' 'B1' 'C1' 'B5' 'D1' 'B2' 'C2' 'F3' 'B3'\n",
      " 'F5' 'C4' 'A4' 'E2' 'A1' 'A3' 'F4' 'D2' 'E3' 'A2' 'F1' 'D4' 'E1' 'E4'\n",
      " 'E5' 'G1' 'F2' 'G2' 'G4' 'G3' 'G5']\n",
      "Unique values in column `feature_33`: --- [ 0.         15.         20.9        24.15       27.69       51.66\n",
      " 39.69       20.8        16.17       33.61       29.77       93.58\n",
      " 18.4        43.76       21.71       41.01       23.4        62.94\n",
      " 31.47       41.11       15.7        26.61499953 50.97       14.95912\n",
      " 37.75       28.75       66.46       23.53       26.26450388 17.86\n",
      " 32.12       38.1        21.52       20.47       63.14       30.00000006\n",
      " 34.02       19.24       21.99       18.34       65.03      ]\n",
      "Unique values in column `feature_35`: --- ['Source Verified' 'Not Verified' 'Verified']\n"
     ]
    }
   ],
   "source": [
    "for i in feats:\n",
    "    if len(df[i].unique())<100:\n",
    "        print(f\"Unique values in column `{i}`: --- {df[i].unique()}\")"
   ]
  },
  {
   "cell_type": "markdown",
   "id": "9d74983e",
   "metadata": {},
   "source": [
    "On retrospect, there is one more categorical variable."
   ]
  },
  {
   "cell_type": "code",
   "execution_count": 42,
   "id": "0a6cd9e1",
   "metadata": {},
   "outputs": [
    {
     "data": {
      "text/plain": [
       "array(['Delivery driver/merchandiser', 'IT Desktop Engineer',\n",
       "       'parts driver', ..., 'Maintenance Sgt', 'Surgical Asst.', 'CNUSD'],\n",
       "      dtype=object)"
      ]
     },
     "execution_count": 42,
     "metadata": {},
     "output_type": "execute_result"
    }
   ],
   "source": [
    "df.feature_9.unique()"
   ]
  },
  {
   "cell_type": "markdown",
   "id": "441fb8bd",
   "metadata": {},
   "source": [
    "Feature 9 seems to be representing something like profession of a person. Do we need that? "
   ]
  },
  {
   "cell_type": "code",
   "execution_count": 43,
   "id": "60029ef1",
   "metadata": {},
   "outputs": [
    {
     "data": {
      "text/plain": [
       "3245"
      ]
     },
     "execution_count": 43,
     "metadata": {},
     "output_type": "execute_result"
    }
   ],
   "source": [
    "len(df.feature_9.unique())"
   ]
  },
  {
   "cell_type": "markdown",
   "id": "a07e520c",
   "metadata": {},
   "source": [
    "And... `feature_29` seems to be a text column. Let's keep that out for this version."
   ]
  },
  {
   "cell_type": "code",
   "execution_count": 44,
   "id": "62a9e9e9",
   "metadata": {},
   "outputs": [
    {
     "data": {
      "text/plain": [
       "array(['Debt consolidation', 'Credit card refinancing', 'Debt Relief',\n",
       "       'lower debt/taxes due', 'Home buying', 'Life Happens',\n",
       "       'Debt Consolidation', 'Medical expenses', 'discover',\n",
       "       'debt cosolidation', 'Home improvement', 'Other', 'Discover',\n",
       "       'Credit Card Consolidation', 'Major purchase',\n",
       "       'Get Out of Debt Sooner!!!', 'Acute needs', 'Business',\n",
       "       'Consolidate', 'Home Remodeling', 'New Loan', 'consalidation',\n",
       "       'Credit card payoff', 'Consolidation', 'Credit Card Debt',\n",
       "       '$$$Great Choice$$$', 'My Loan', 'Vacation', 'card refinance',\n",
       "       'debt consolidation', 'debt payoff',\n",
       "       'Lower Interest Debt Consolidation', 'Dental', 'Credit Refinance',\n",
       "       'Debt free', 'Cc loan', 'Combining credit', 'Bills',\n",
       "       'Consolidate 3 CCs', 'Debt Consildation', 'debt relief',\n",
       "       'Debt Relief Loan', 'cc refi', 'Home Improvement', 'Debt Free',\n",
       "       'Vacation Loan', 'bill free', 'paypeskycards',\n",
       "       'Moving and relocation', 'Pool', 'Debt Free Cutie',\n",
       "       'Deck improvement', 'home improvement', 'Fresh Start', 'personal',\n",
       "       'Credit Consolidation Note', 'DEBTFREE', 'Loan for Taxes',\n",
       "       'consolodate', 'One Payment Loan', 'Refinance', 'consolidate',\n",
       "       'Debt Payment', 'Time to refinance!', 'consolidatingmyloan',\n",
       "       'consolidation', 'Credit Card Payoffs', 'debt Consolidation',\n",
       "       'Debt Consolodation', 'GOAL DEBT FREE', 'medical loan',\n",
       "       'Credit card consolidation', 'debt consoilidation', 'Home fixin',\n",
       "       'Land Purchase to Build Home', 'thanks', 'loan',\n",
       "       'My Debt consolidation.', 'helping hand', 'Debt Refinance',\n",
       "       'Growing Space', 'consolidate 3', 'Return to Zero',\n",
       "       'required for medical bills & debt consol', 'Car financing',\n",
       "       'Road to Freedom Loan', 'Credit Card debt', 'personal loan',\n",
       "       'payoff', 'Pay Discover', '2013January20',\n",
       "       'Wedding and Credit card pay off', 'School', 'Credit Card Payment',\n",
       "       'myhomeloan', 'credit card debt consolidation', 'PAYOFF',\n",
       "       'High Interest Remediation', 'consolidation loan', 'kickback',\n",
       "       'Consolidate ALL my debt AND pay taxes',\n",
       "       'I Hate My Credit Card Debt!', 'Goodbye Credit Cards!',\n",
       "       'CC pay off', 'Our Get Debt Free Loan', 'Light', 'Payoff',\n",
       "       'Chase Credit Cards', 'Credit Debt Consolidation', 'Home',\n",
       "       'credit card repayment', 'Credit card debt with an ending date',\n",
       "       \"Let's See\", 'the ring', 'FREEDOM FROM DEBT', 'Debt',\n",
       "       'Credit Card Payoff Loan', 'Credit Card Loan', 'debt releif',\n",
       "       'Best Credit', 'relief of strees', 'Credit Card Crusher',\n",
       "       'Easy Money', 'LendingClubLoan', 'start saving', 'smooth',\n",
       "       'pay off credit cards', 'career', 'LOAN', 'Only one payment',\n",
       "       'CC Refi', 'credit card debt refi - win-win scenario',\n",
       "       'Starter Boat Loan - Excellent Credit', 'PoolRehab', 'credit card',\n",
       "       'Debt Consolidation Loan', 'Card Payoff',\n",
       "       'Home Repairs, Loan Payoffs, Credit Cards',\n",
       "       'Credit Cards Consolidated and Refinanced',\n",
       "       'Pay Off High Interest Credit Card', 'credit card payoffs',\n",
       "       'Credit Card paydown', 'Debt pay off',\n",
       "       'Credit Cards Consolidation', 'freedom', 'Loan 2', 'CONSOLIDATIN',\n",
       "       nan, 'cc gone', 'Kitchen & Bathroom Remodel', 'Credit Card Payoff',\n",
       "       'DEBT CONSOLIDATION', 'loan consolidation', 'Wedding Loan',\n",
       "       'Debt Free and New Direction', 'DC Loan', 'Loan for life',\n",
       "       'Credit cards', 'Credit Card Paydown', 'pay off current debt',\n",
       "       'Person Loan', 'Moving on loan', 'Consumer', 'Credit card pay off',\n",
       "       'The Right Loan', 'Medical Consolidation', 'Improvements',\n",
       "       'my loan', 'MoneyNeeded', 'Payment for Credit Cards', 'The Bills',\n",
       "       'CLEARING DEPT', 'Landscape and yard', 'Reduce Debt Cost',\n",
       "       'My Consolidation Loan', 'life restructuring', 'New Direction',\n",
       "       'Freedo', 'Debt payoff', 'Turn the Corner Loan',\n",
       "       'Pay off high interst debt', 'Cash Flow improvement', 'Wedding',\n",
       "       'Freedom', 'Good investment choice #1',\n",
       "       'Starting a small Buisness', 'Wanting Financial Peace!',\n",
       "       'refinance', 'Credit Card refi', 'remodel',\n",
       "       'A Little off the Shoulders', 'FREE AND CLEAR',\n",
       "       'Lending Club Loan', 'Credit card', 'Elimination of debt',\n",
       "       'truck payment', 'Credit Card Debt Free',\n",
       "       'Refinance Wedding Credit Card Expenses', 'Bill payoff',\n",
       "       'CC Lump Sum', 'Wedding Finances', 'Consoladation', 'debt',\n",
       "       'wedding loand', 'Credit Card and a Student Loan',\n",
       "       'refinancing life', 'new roof and kitchen', 'CCRefiLoan',\n",
       "       'Consolidawte', 'Loan to buy a car', 'Expand my business',\n",
       "       'pay cards', 'Lower Card Rate', 'Credit Card Refinance',\n",
       "       'CONSOLIDATION #1', 'Wedding Funds', 'credit cards',\n",
       "       'Debt Re-Payment', 'Breathing room', 'Debt consolidation Loan',\n",
       "       'The taste of freedom', 'Consolidation loan', 'CONSOLIDATE',\n",
       "       'Remodeling', 'Personal Loan', 'Consolidation Loan',\n",
       "       'Got my MBA! Now its time to pay debt!', 'Car Repairs',\n",
       "       'Lending club loan #1', 'consolidate credit cards at  better rate',\n",
       "       'Debt clean up', 'Debt Fix', 'Loan of Debt Elimination',\n",
       "       'Business Loan', 'debit consolidation', 'Credit Card',\n",
       "       'Credit Consolidation', 'Debt Consolidation For Credit Cards',\n",
       "       'My first home', 'Debt Be Gone!', 'DebtPayOffTime',\n",
       "       'Discover Loan Payoff', 'Paying off some bills', 'DebtFreee',\n",
       "       'Credit Card Consolidation Loan', 'Spa',\n",
       "       'Partial credit card loan', 'Bill Consolidation', 'Loan',\n",
       "       'future aspirations', 'Personal debt console',\n",
       "       'Consolidation of Debts', 'SIMPLIFY', 'Catch up loan',\n",
       "       'Loan Consolidation', 'Amexpayoff', 'loan1', 'CCRef', 'bills',\n",
       "       'Clean up money', 'Payoff Debt', 'Citi Payoff',\n",
       "       'to better manage my debt', 'Credit Card Refinancing',\n",
       "       'Loan to Help for Wedding', 'CARDS', 'freedom loan', 'credit-free',\n",
       "       'Visa Payoff', 'Debt consolidation loan', 'End of the year help',\n",
       "       'a dream for the future', 'Debtfree', 'get out from under',\n",
       "       'CC Consolidation', 'Pay Off', 'Credit refinance', 'Pay off',\n",
       "       'RightPath', 'Get out of Debt', 'credit card consolidation',\n",
       "       'vacation',\n",
       "       'My \"\"\"\"\"\"\"\"\"\"\"\"\"\"\"\"Pay off that debt!\"\"\"\"\"\"\"\"\"\"\"\"\"\"\"\" loan',\n",
       "       'home improvements', 'Personal', 'sarasota', 'make life better',\n",
       "       'HOUSE BUYING', 'Pay off credit cards', 'Credit Card Escape',\n",
       "       'credit card refinance', 'High Credit Card Payoff',\n",
       "       'Home fix-up loan', 'Consolidate 1', 'payoff bills',\n",
       "       'wedding rings', 'Credit cards debt', 'A Little Boost',\n",
       "       'Ready for 1 Manageable Payment', 'Credit_card_load',\n",
       "       'Getting on track', 'Pay it off', 'Debt free ASAP', 'cutcredit',\n",
       "       'Home Loan', 'Cosolidation', 'Debt Loan', 'Debt consolodation',\n",
       "       'Loan - One Payment', 'Erase my debt', 'Amex', 'Car repair',\n",
       "       'Consolidation (CC plus Lending Club)', 'Credit Card Pay Off',\n",
       "       'My loan', 'High interest and medical consolidation',\n",
       "       'Pay Off Credit Cards', 'Debit Consalidation',\n",
       "       'Buy furniture and payoff credit cards',\n",
       "       'Refinancing a credit card', 'Debt Free Soon',\n",
       "       'Debt consolitdation', 'credit', 'Paying it down...',\n",
       "       'Lending Club', 'peace of mind', 'Paying off debt', 'no debt',\n",
       "       'First Loan', 'emergency money', 'consilidation', 'Boost',\n",
       "       'Credit Card Redux', 'Pay Off Dedt', 'Business Cash Flow',\n",
       "       'One Easy Payment', 'credit cards are killing me', 'Kill My Cards',\n",
       "       'Unexpected crisis loan', 'Moving loan', 'Credit cards paid off',\n",
       "       'Credit card refinance', 'pay off bills and home improvement',\n",
       "       'New Deck and consolidation', 'SWIFTLY CONSOLIDATE',\n",
       "       'Home consolidation', 'Pilot Expenses', 'Refi',\n",
       "       'credit card refinance loan', 'Credit Cards', 'Secure mine',\n",
       "       'Consolidation of Debt Loan', \"Let's Get It Started!\",\n",
       "       'Road to Debt Free', 'Blessed Life', 'Out of debt loan',\n",
       "       'Get right cash', 'Deb Consolidation Loan', 'breathing room',\n",
       "       'consolidation  loan', 'outfromunder', 'clean up',\n",
       "       'CONSOLIDATION 1', 'Debit Relief', 'FinancialFreedom',\n",
       "       'Credit Refinancing', 'tubloan', 'rid of cc debt',\n",
       "       'back on my feet', 'Credit card repayment',\n",
       "       'Credit card consolidation loan', 'Trike', 'New start', 'Relief',\n",
       "       'credit cards conolidation', 'Credit Card Free in Three',\n",
       "       'Debt Free at Last!', 'Moving Loan', 'Debt Bundle', 'Househol',\n",
       "       'credit card refi', 'clean up credit',\n",
       "       'High int cc refi to qualify 4 home loan', 'CC loan',\n",
       "       'Card Payment', 'InterestReduction', 'Real Estate Tax Loan',\n",
       "       'Getting Free of Credit Card Debt', 'MAKING THINGS WORK',\n",
       "       'Credit card consolidations', 'Many Little Payments Into One',\n",
       "       'consolidating high interest debts',\n",
       "       'Pay Off Credit Cards For Good!', 'intrest reducer', 'Debt remove',\n",
       "       'debt cons', 'lending club', 'CC Payoff', 'Consolidaton', 'CAR',\n",
       "       'Better Future Loan', 'Debt Consolidation is the Plan',\n",
       "       'card freedom', 'Lower Debt Interest', 'Clean up',\n",
       "       'high interest debt consolidation',\n",
       "       'Consolodating debt for medical student', 'Green loan',\n",
       "       'debtrelieffinally1', 'card', 'debtfree', 'saving me money',\n",
       "       'Credit card refi', 'Debt Pay', 'Credit Card Payoff-Consolidation',\n",
       "       'Ease my Debt', 'DC', 'Better living', 'Demolish Credit Card Debt',\n",
       "       'Iloan', 'Debt Reorganization Loan', 'Clean Credit',\n",
       "       'CC Refinance', 'PayItOff', 'Byebyecreditdebt', 'Card payoff',\n",
       "       'Celebrating the future', 'Pay bill',\n",
       "       'Pay off high interest credit cards',\n",
       "       'first step to a fresh start', 'Finance Loan', 'home',\n",
       "       'get rid of some debt', 'for my home!', 'New Beginning',\n",
       "       'Debt consolition', 'Bill consolidation', 'deck loan', 'CC REFI',\n",
       "       'Home addition', 'Consolidation Debt Free', 'CCREFI',\n",
       "       'debt consolidation loan', 'Credit Consolidation - lower interest',\n",
       "       'Easy Debt Consolidation', 'Family Legal Loan', 'Pellet Stove',\n",
       "       'CREDIT CARDS', 'debt resolution', 'Pay Down 2012',\n",
       "       'DebtConsolidation', 'Money Help Loan', 'Debt1',\n",
       "       'home improvement/credit card',\n",
       "       'Debt Consolidation and Medical Payments', 'Pay off cards',\n",
       "       'home repair', 'payoff credit card', 'goodloan', 'debt free',\n",
       "       'Financial freedom', 'Pay the Piper', 'Beautiful Home',\n",
       "       'catch up loan', 'Home repair loan', 'Pay off credit cards.',\n",
       "       'Consolidate Wedding Costs', 'pay off', 'Restructure', 'Last2012',\n",
       "       'Credit Card Refinance Loan', 'Freedom from Credit Card Debt',\n",
       "       'Credit', 'reducing bills',\n",
       "       'freedom from high interest credit card', 'My Personal Loan',\n",
       "       'Pay off Discover loan at lower intrest', 'CONSOLIDATION',\n",
       "       'porch roof', 'Loan1', 'Cc', 'personnel',\n",
       "       '3 season room andbathroom', 'consolidation remodel',\n",
       "       'Short Term Debt Consolidation Loan', 'Help', 'wedding',\n",
       "       'Starting Over', 'windows', 'Monthly Loan', 'dental round one',\n",
       "       'Pay off those high rate cards', 'bills loan', 'Hat and Glasses',\n",
       "       'Getting credit card back on track', 'Recalculating', 'Renovation',\n",
       "       'Invest in future', 'pay off cards', 'cc riddance', 'medical',\n",
       "       'pay my bills', 'Consolidate Credit Card Debt',\n",
       "       'getting my debt together', 'SAVING', 'peace of mind loan',\n",
       "       'Personal loan', '2013 Consolidation', 'Solar/Debt Consolodation',\n",
       "       'hopefully', 'payments', 'life is good', 'Medical bills',\n",
       "       'consoldation', 'Get out of debt', 'my consolodation',\n",
       "       'Looking to grow!'], dtype=object)"
      ]
     },
     "execution_count": 44,
     "metadata": {},
     "output_type": "execute_result"
    }
   ],
   "source": [
    "df.feature_29.unique()"
   ]
  },
  {
   "cell_type": "markdown",
   "id": "3a1355b0",
   "metadata": {},
   "source": [
    "Finally, there is feature 36, and it seems to be capturing something. Seems like postal code."
   ]
  },
  {
   "cell_type": "code",
   "execution_count": 45,
   "id": "9cff2742",
   "metadata": {},
   "outputs": [
    {
     "data": {
      "text/plain": [
       "array(['370xx', '070xx', '921xx', '601xx', '913xx', '080xx', '112xx',\n",
       "       '330xx', '223xx', '674xx'], dtype=object)"
      ]
     },
     "execution_count": 45,
     "metadata": {},
     "output_type": "execute_result"
    }
   ],
   "source": [
    "df.feature_36.unique()[:10]"
   ]
  },
  {
   "cell_type": "markdown",
   "id": "e7b31b48",
   "metadata": {},
   "source": [
    "From the above output, we can see that the following features are categorical among the anonymized features:\n",
    "- feature_0\n",
    "- feature_1\n",
    "- feature_3\n",
    "- feature_4\n",
    "- feature_7\n",
    "- feature_9\n",
    "- feature_12\n",
    "- feature_13\n",
    "- feature_14\n",
    "- feature_15\n",
    "- feature_23\n",
    "- feature_28\n",
    "- feature_35\n",
    "- feature_36\n",
    "\n",
    "And, we should probably drop `feature_24` since it has only one value.\n",
    "\n",
    "`feature_29` and `feature_9` are text columns that need to be handled differently. We can probably take them out too. Atleast for this version."
   ]
  },
  {
   "cell_type": "code",
   "execution_count": 46,
   "id": "973d0ef4",
   "metadata": {},
   "outputs": [],
   "source": [
    "# some extra columns to remove from the data right now \n",
    "df.drop(columns=['feature_29','feature_24','feature_9'],inplace=True)"
   ]
  },
  {
   "cell_type": "markdown",
   "id": "3c9fcee2",
   "metadata": {},
   "source": [
    "Ok, moving on..."
   ]
  },
  {
   "cell_type": "code",
   "execution_count": 47,
   "id": "8aa525be",
   "metadata": {},
   "outputs": [],
   "source": [
    "# categorical columns\n",
    "cat_cols= ['feature_0', 'feature_1', 'feature_3', \n",
    "           'feature_4', 'feature_7',\n",
    "           'feature_12', 'feature_13', 'feature_14',\n",
    "           'feature_15', 'feature_23',\n",
    "           'feature_28', 'feature_35','feature_36'\n",
    "          ]\n",
    "\n",
    "# ordinal columns\n",
    "encode_cols=['time','duration','checkpoint']\n",
    "\n",
    "# numerical columns\n",
    "remove=cat_cols+encode_cols + ['id','target', 'feature_24', 'feature_29','feature_9']\n",
    "num_cols=[i for i in col_names if i not in remove]"
   ]
  },
  {
   "cell_type": "markdown",
   "id": "9c8be473",
   "metadata": {},
   "source": [
    "Can we do a correlation matrix for the numerical columns?"
   ]
  },
  {
   "cell_type": "code",
   "execution_count": 48,
   "id": "54d8ffb1",
   "metadata": {},
   "outputs": [
    {
     "data": {
      "text/plain": [
       "<Axes: >"
      ]
     },
     "execution_count": 48,
     "metadata": {},
     "output_type": "execute_result"
    },
    {
     "data": {
      "image/png": "[encoded data removed]",
      "text/plain": [
       "<Figure size 2500x1500 with 2 Axes>"
      ]
     },
     "metadata": {},
     "output_type": "display_data"
    }
   ],
   "source": [
    "# calculate correlation\n",
    "corr=df[num_cols + ['target']].corr()\n",
    "\n",
    "mask=np.triu(np.ones_like(corr,dtype=bool))\n",
    "f,ax=plt.subplots(figsize=(25,15))\n",
    "cmap=sns.diverging_palette(220,10,as_cmap=True)\n",
    "sns.heatmap(corr,mask=mask,cmap=cmap,vmax=1,center=0,square=True,linewidths=.5,cbar_kws={'shrink':.5})"
   ]
  },
  {
   "cell_type": "markdown",
   "id": "20462284",
   "metadata": {},
   "source": [
    "What if we set a threshold for correlation values and select columns which have correlation higher than the target."
   ]
  },
  {
   "cell_type": "code",
   "execution_count": 49,
   "id": "4404ad2e",
   "metadata": {},
   "outputs": [],
   "source": [
    "threshold=0.5 # threshold for correlation\n",
    "k={} #empty dictionary\n",
    "\n",
    "for i in corr.columns:\n",
    "    corr_dict=corr[i].to_dict()\n",
    "    for j in corr_dict:\n",
    "        if threshold<=corr_dict[j]<1: #correlation is greater than threshold\n",
    "            k[corr_dict[j]]=sorted((i,j))"
   ]
  },
  {
   "cell_type": "markdown",
   "id": "d9ed7159",
   "metadata": {},
   "source": [
    "We can look out for columns that are highly correlated to each other because they can introduce multicollinearity in the model "
   ]
  },
  {
   "cell_type": "code",
   "execution_count": 50,
   "id": "6fd63b84",
   "metadata": {},
   "outputs": [
    {
     "data": {
      "text/plain": [
       "{0.5703402267554034: ['feature_2', 'feature_31'],\n",
       " 0.8477650902209051: ['feature_25', 'feature_5'],\n",
       " 0.9999948803277826: ['feature_11', 'feature_17'],\n",
       " 0.5317717042668566: ['feature_17', 'feature_32'],\n",
       " 0.5316635564138348: ['feature_11', 'feature_32'],\n",
       " 0.679880830934263: ['feature_19', 'feature_20'],\n",
       " 0.8463135043251175: ['feature_26', 'feature_34']}"
      ]
     },
     "execution_count": 50,
     "metadata": {},
     "output_type": "execute_result"
    }
   ],
   "source": [
    "{i:j for i,j in k.items() if 'target' not in j}"
   ]
  },
  {
   "cell_type": "code",
   "execution_count": 51,
   "id": "e2d581d9",
   "metadata": {},
   "outputs": [],
   "source": [
    "to_remove=['feature_17','feature_25','feature_26','feature_19']\n",
    "num_cols=[i for i in num_cols if i not in to_remove]"
   ]
  },
  {
   "cell_type": "markdown",
   "id": "7d95bd65",
   "metadata": {},
   "source": [
    "So, there is a lot of useful information in the above correlation plot. For now, I'll just ignore it all. We can use this information in the second baseline and later versions. Let's focus on getting a primary model up and running.\n",
    "\n",
    "But before that, let's try one more visualization."
   ]
  },
  {
   "cell_type": "code",
   "execution_count": 52,
   "id": "ec78bdb5",
   "metadata": {},
   "outputs": [],
   "source": [
    "# commented out to speed up reruns \n",
    "# sns.pairplot(df[num_cols])"
   ]
  },
  {
   "cell_type": "markdown",
   "id": "b155c8bb",
   "metadata": {},
   "source": [
    "We'll refine that plot later."
   ]
  },
  {
   "cell_type": "markdown",
   "id": "a96fd669",
   "metadata": {},
   "source": [
    "## Data Preprocessing"
   ]
  },
  {
   "cell_type": "markdown",
   "id": "a14db713",
   "metadata": {},
   "source": [
    "### Categorical columns"
   ]
  },
  {
   "cell_type": "code",
   "execution_count": 53,
   "id": "1b8ced0d",
   "metadata": {},
   "outputs": [],
   "source": [
    "# preprocessing pipeline for categorical variables\n",
    "cat_pipeline=Pipeline(steps=[\n",
    "    (\"imputer\",SimpleImputer(strategy=\"most_frequent\")),\n",
    "    (\"encode\",OneHotEncoder(dtype='int', handle_unknown='ignore')),\n",
    "                             ])"
   ]
  },
  {
   "cell_type": "markdown",
   "id": "79b1891a",
   "metadata": {},
   "source": [
    "### Ordinal columns"
   ]
  },
  {
   "cell_type": "code",
   "execution_count": 54,
   "id": "1349d80e",
   "metadata": {},
   "outputs": [],
   "source": [
    "# preprocessing pipeline for categorical variables\n",
    "encode_pipeline=Pipeline(steps=[\n",
    "    (\"imputer\",SimpleImputer(strategy=\"most_frequent\")),\n",
    "    (\"encode\",OrdinalEncoder(dtype='int', handle_unknown='use_encoded_value',unknown_value=-1)),\n",
    "                             ])"
   ]
  },
  {
   "cell_type": "markdown",
   "id": "d1939624",
   "metadata": {},
   "source": [
    "### Numerical columns"
   ]
  },
  {
   "cell_type": "code",
   "execution_count": 55,
   "id": "11d01a28",
   "metadata": {},
   "outputs": [],
   "source": [
    "# preprocessing pipeline for numerical variables\n",
    "num_pipeline=Pipeline(steps=[\n",
    "    (\"imputer\",SimpleImputer(missing_values=np.nan, strategy='mean')),\n",
    "    (\"scale\",StandardScaler())\n",
    "                              ])"
   ]
  },
  {
   "cell_type": "markdown",
   "id": "460dfa97",
   "metadata": {},
   "source": [
    "### Put it together"
   ]
  },
  {
   "cell_type": "code",
   "execution_count": 56,
   "id": "aec7ceb3",
   "metadata": {},
   "outputs": [],
   "source": [
    "X=df.drop(columns=['id','target'])\n",
    "y=df.target\n",
    "\n",
    "# make the column transformer\n",
    "column_trans = make_column_transformer(\n",
    "    (cat_pipeline, cat_cols),\n",
    "    (encode_pipeline, encode_cols),\n",
    "    (num_pipeline, num_cols),\n",
    "    )\n",
    "\n",
    "# fit on training data\n",
    "X=column_trans.fit_transform(X)"
   ]
  },
  {
   "cell_type": "markdown",
   "id": "43b839b7",
   "metadata": {},
   "source": [
    "### Splitting the data"
   ]
  },
  {
   "cell_type": "code",
   "execution_count": 57,
   "id": "2a69acb4",
   "metadata": {},
   "outputs": [],
   "source": [
    "X_train, X_valid, y_train, y_valid = train_test_split(X, y, test_size=0.20, random_state=42)"
   ]
  },
  {
   "cell_type": "markdown",
   "id": "6737a6d6",
   "metadata": {},
   "source": [
    "## Model building and evaluation"
   ]
  },
  {
   "cell_type": "markdown",
   "id": "1b01717a",
   "metadata": {},
   "source": [
    "Since this is a regression problem, one of the obvious choices for the baseline model is a lasso regression model. "
   ]
  },
  {
   "cell_type": "code",
   "execution_count": 58,
   "id": "249c8cb2",
   "metadata": {},
   "outputs": [
    {
     "data": {
      "text/html": [
       "<style>#sk-container-id-2 {color: black;background-color: white;}#sk-container-id-2 pre{padding: 0;}#sk-container-id-2 div.sk-toggleable {background-color: white;}#sk-container-id-2 label.sk-toggleable__label {cursor: pointer;display: block;width: 100%;margin-bottom: 0;padding: 0.3em;box-sizing: border-box;text-align: center;}#sk-container-id-2 label.sk-toggleable__label-arrow:before {content: \"▸\";float: left;margin-right: 0.25em;color: #696969;}#sk-container-id-2 label.sk-toggleable__label-arrow:hover:before {color: black;}#sk-container-id-2 div.sk-estimator:hover label.sk-toggleable__label-arrow:before {color: black;}#sk-container-id-2 div.sk-toggleable__content {max-height: 0;max-width: 0;overflow: hidden;text-align: left;background-color: #f0f8ff;}#sk-container-id-2 div.sk-toggleable__content pre {margin: 0.2em;color: black;border-radius: 0.25em;background-color: #f0f8ff;}#sk-container-id-2 input.sk-toggleable__control:checked~div.sk-toggleable__content {max-height: 200px;max-width: 100%;overflow: auto;}#sk-container-id-2 input.sk-toggleable__control:checked~label.sk-toggleable__label-arrow:before {content: \"▾\";}#sk-container-id-2 div.sk-estimator input.sk-toggleable__control:checked~label.sk-toggleable__label {background-color: #d4ebff;}#sk-container-id-2 div.sk-label input.sk-toggleable__control:checked~label.sk-toggleable__label {background-color: #d4ebff;}#sk-container-id-2 input.sk-hidden--visually {border: 0;clip: rect(1px 1px 1px 1px);clip: rect(1px, 1px, 1px, 1px);height: 1px;margin: -1px;overflow: hidden;padding: 0;position: absolute;width: 1px;}#sk-container-id-2 div.sk-estimator {font-family: monospace;background-color: #f0f8ff;border: 1px dotted black;border-radius: 0.25em;box-sizing: border-box;margin-bottom: 0.5em;}#sk-container-id-2 div.sk-estimator:hover {background-color: #d4ebff;}#sk-container-id-2 div.sk-parallel-item::after {content: \"\";width: 100%;border-bottom: 1px solid gray;flex-grow: 1;}#sk-container-id-2 div.sk-label:hover label.sk-toggleable__label {background-color: #d4ebff;}#sk-container-id-2 div.sk-serial::before {content: \"\";position: absolute;border-left: 1px solid gray;box-sizing: border-box;top: 0;bottom: 0;left: 50%;z-index: 0;}#sk-container-id-2 div.sk-serial {display: flex;flex-direction: column;align-items: center;background-color: white;padding-right: 0.2em;padding-left: 0.2em;position: relative;}#sk-container-id-2 div.sk-item {position: relative;z-index: 1;}#sk-container-id-2 div.sk-parallel {display: flex;align-items: stretch;justify-content: center;background-color: white;position: relative;}#sk-container-id-2 div.sk-item::before, #sk-container-id-2 div.sk-parallel-item::before {content: \"\";position: absolute;border-left: 1px solid gray;box-sizing: border-box;top: 0;bottom: 0;left: 50%;z-index: -1;}#sk-container-id-2 div.sk-parallel-item {display: flex;flex-direction: column;z-index: 1;position: relative;background-color: white;}#sk-container-id-2 div.sk-parallel-item:first-child::after {align-self: flex-end;width: 50%;}#sk-container-id-2 div.sk-parallel-item:last-child::after {align-self: flex-start;width: 50%;}#sk-container-id-2 div.sk-parallel-item:only-child::after {width: 0;}#sk-container-id-2 div.sk-dashed-wrapped {border: 1px dashed gray;margin: 0 0.4em 0.5em 0.4em;box-sizing: border-box;padding-bottom: 0.4em;background-color: white;}#sk-container-id-2 div.sk-label label {font-family: monospace;font-weight: bold;display: inline-block;line-height: 1.2em;}#sk-container-id-2 div.sk-label-container {text-align: center;}#sk-container-id-2 div.sk-container {/* jupyter's `normalize.less` sets `[hidden] { display: none; }` but bootstrap.min.css set `[hidden] { display: none !important; }` so we also need the `!important` here to be able to override the default hidden behavior on the sphinx rendered scikit-learn.org. See: https://github.com/scikit-learn/scikit-learn/issues/21755 */display: inline-block !important;position: relative;}#sk-container-id-2 div.sk-text-repr-fallback {display: none;}</style><div id=\"sk-container-id-2\" class=\"sk-top-container\"><div class=\"sk-text-repr-fallback\"><pre>Lasso()</pre><b>In a Jupyter environment, please rerun this cell to show the HTML representation or trust the notebook. <br />On GitHub, the HTML representation is unable to render, please try loading this page with nbviewer.org.</b></div><div class=\"sk-container\" hidden><div class=\"sk-item\"><div class=\"sk-estimator sk-toggleable\"><input class=\"sk-toggleable__control sk-hidden--visually\" id=\"sk-estimator-id-2\" type=\"checkbox\" checked><label for=\"sk-estimator-id-2\" class=\"sk-toggleable__label sk-toggleable__label-arrow\">Lasso</label><div class=\"sk-toggleable__content\"><pre>Lasso()</pre></div></div></div></div></div>"
      ],
      "text/plain": [
       "Lasso()"
      ]
     },
     "execution_count": 58,
     "metadata": {},
     "output_type": "execute_result"
    }
   ],
   "source": [
    "lr=Lasso()\n",
    "lr.fit(X_train,y_train)"
   ]
  },
  {
   "cell_type": "markdown",
   "id": "6c17080a",
   "metadata": {},
   "source": [
    "MSLE "
   ]
  },
  {
   "cell_type": "code",
   "execution_count": 59,
   "id": "2c3790b7",
   "metadata": {},
   "outputs": [
    {
     "name": "stdout",
     "output_type": "stream",
     "text": [
      "MSLE:0.4262888252493797\n"
     ]
    }
   ],
   "source": [
    "y_pred=lr.predict(X_valid)\n",
    "print(f\"MSLE:{mean_squared_log_error(y_valid, y_pred, squared=False)}\")"
   ]
  },
  {
   "cell_type": "markdown",
   "id": "0082ea92",
   "metadata": {},
   "source": [
    "Let's get a R2 score as well"
   ]
  },
  {
   "cell_type": "code",
   "execution_count": 60,
   "id": "26c12f15",
   "metadata": {},
   "outputs": [
    {
     "name": "stdout",
     "output_type": "stream",
     "text": [
      "R2:0.18523597448446005\n"
     ]
    }
   ],
   "source": [
    "y_pred=lr.predict(X_valid)\n",
    "print(f\"R2:{r2_score(y_valid, y_pred)}\")"
   ]
  }
 ],
 "metadata": {
  "kernelspec": {
   "display_name": "Python 3 (ipykernel)",
   "language": "python",
   "name": "python3"
  },
  "language_info": {
   "codemirror_mode": {
    "name": "ipython",
    "version": 3
   },
   "file_extension": ".py",
   "mimetype": "text/x-python",
   "name": "python",
   "nbconvert_exporter": "python",
   "pygments_lexer": "ipython3",
   "version": "3.10.6"
  }
 },
 "nbformat": 4,
 "nbformat_minor": 5
}
